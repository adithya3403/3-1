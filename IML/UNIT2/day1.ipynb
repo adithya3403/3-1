{
 "cells": [
  {
   "cell_type": "code",
   "execution_count": 13,
   "metadata": {},
   "outputs": [],
   "source": [
    "import numpy as np\n",
    "from scipy import stats as st\n",
    "from collections import Counter"
   ]
  },
  {
   "cell_type": "code",
   "execution_count": 14,
   "metadata": {},
   "outputs": [
    {
     "name": "stdout",
     "output_type": "stream",
     "text": [
      "86.28571428571429\n",
      "90.0\n"
     ]
    }
   ],
   "source": [
    "l = np.array([98, 95, 96, 65, 75, 85, 90])\n",
    "print(np.mean(l))\n",
    "print(np.median(l))"
   ]
  },
  {
   "cell_type": "code",
   "execution_count": 15,
   "metadata": {},
   "outputs": [
    {
     "name": "stdout",
     "output_type": "stream",
     "text": [
      "29500.0\n",
      "19000.0\n"
     ]
    }
   ],
   "source": [
    "# scenario 1\n",
    "\n",
    "# a fastfood outlet in a beachside city has\n",
    "# 3 kitchen hanks 16000$ per year, 2 supervisors of 22000$ per year\n",
    "# and the owner/manager 85000$ per year.\n",
    "# Find out avg income of the buiseness\n",
    "# and the median. Explain the reason why mean is higher than median.\n",
    "\n",
    "x = [16000, 16000, 16000, 22000, 22000, 85000]\n",
    "print(np.mean(x))\n",
    "print(np.median(x))"
   ]
  },
  {
   "cell_type": "code",
   "execution_count": 16,
   "metadata": {},
   "outputs": [],
   "source": [
    "# find mode\n",
    "def mode(x):\n",
    "    c = Counter(x)\n",
    "    maxc = 0\n",
    "    for i in c:\n",
    "        if c[i] > maxc:\n",
    "            maxc = c[i]\n",
    "    return [k for k, v in c.items() if v == maxc]"
   ]
  },
  {
   "cell_type": "code",
   "execution_count": 17,
   "metadata": {},
   "outputs": [
    {
     "name": "stdout",
     "output_type": "stream",
     "text": [
      "[89, 45, 34]\n"
     ]
    }
   ],
   "source": [
    "weights = [ 100, 49, 41, 40, 25, 78, 57, 89, 45, 34, 12, 34, 45, 56, 67, 87, 89, 90, 81, 73 ]\n",
    "print(mode(weights))"
   ]
  }
 ],
 "metadata": {
  "kernelspec": {
   "display_name": "Python 3.10.7 64-bit",
   "language": "python",
   "name": "python3"
  },
  "language_info": {
   "codemirror_mode": {
    "name": "ipython",
    "version": 3
   },
   "file_extension": ".py",
   "mimetype": "text/x-python",
   "name": "python",
   "nbconvert_exporter": "python",
   "pygments_lexer": "ipython3",
   "version": "3.10.7"
  },
  "orig_nbformat": 4,
  "vscode": {
   "interpreter": {
    "hash": "044a165dbe27213bc6f274cea237393a7f685054017ca7e921157281dd6adfa6"
   }
  }
 },
 "nbformat": 4,
 "nbformat_minor": 2
}
