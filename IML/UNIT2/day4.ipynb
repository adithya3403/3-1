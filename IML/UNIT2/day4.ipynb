{
 "cells": [
  {
   "cell_type": "code",
   "execution_count": 1,
   "metadata": {},
   "outputs": [],
   "source": [
    "import numpy as np\n",
    "data = [2, 3, 4, 5, 6, 7, 8, 9]"
   ]
  },
  {
   "cell_type": "code",
   "execution_count": 24,
   "metadata": {},
   "outputs": [
    {
     "data": {
      "text/plain": [
       "2.0"
      ]
     },
     "execution_count": 24,
     "metadata": {},
     "output_type": "execute_result"
    }
   ],
   "source": [
    "def mad(data):\n",
    "    m = np.mean(data)\n",
    "    l = []\n",
    "    for i in data:\n",
    "        l.append(abs(i - m))\n",
    "    sum = 0\n",
    "    for i in l:\n",
    "        sum = sum + i\n",
    "    return sum / len(l)\n",
    "\n",
    "\n",
    "sum(abs(np.mean(data) - data)) / len(data)  # mean absolute deviation = 2.0\n"
   ]
  },
  {
   "cell_type": "code",
   "execution_count": 23,
   "metadata": {},
   "outputs": [
    {
     "data": {
      "text/plain": [
       "5.25"
      ]
     },
     "execution_count": 23,
     "metadata": {},
     "output_type": "execute_result"
    }
   ],
   "source": [
    "def variance(data):\n",
    "    m = np.mean(data)\n",
    "    l = []\n",
    "    for i in data:\n",
    "        l.append((i - m) ** 2)\n",
    "    sum = 0\n",
    "    for i in l:\n",
    "        sum = sum + i\n",
    "    return sum / len(l)\n",
    "\n",
    "np.var(data) # variance = 5.25"
   ]
  },
  {
   "cell_type": "code",
   "execution_count": 22,
   "metadata": {},
   "outputs": [
    {
     "data": {
      "text/plain": [
       "2.29128784747792"
      ]
     },
     "execution_count": 22,
     "metadata": {},
     "output_type": "execute_result"
    }
   ],
   "source": [
    "def standard_dev(data):\n",
    "    return (variance(data))**0.5\n",
    "\n",
    "np.std(data) # standard deviation = 2.29128784747792"
   ]
  }
 ],
 "metadata": {
  "kernelspec": {
   "display_name": "Python 3.9.6 64-bit",
   "language": "python",
   "name": "python3"
  },
  "language_info": {
   "codemirror_mode": {
    "name": "ipython",
    "version": 3
   },
   "file_extension": ".py",
   "mimetype": "text/x-python",
   "name": "python",
   "nbconvert_exporter": "python",
   "pygments_lexer": "ipython3",
   "version": "3.9.6"
  },
  "orig_nbformat": 4,
  "vscode": {
   "interpreter": {
    "hash": "ee58b5fda06124f50ca0d338cbc9b0e4e8b97e203338f74cc0d11b7f43a7579a"
   }
  }
 },
 "nbformat": 4,
 "nbformat_minor": 2
}
