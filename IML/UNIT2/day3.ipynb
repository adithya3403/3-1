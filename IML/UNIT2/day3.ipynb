{
 "cells": [
  {
   "cell_type": "markdown",
   "metadata": {},
   "source": [
    "### RANGE AND IQR"
   ]
  },
  {
   "cell_type": "code",
   "execution_count": 2,
   "metadata": {},
   "outputs": [],
   "source": [
    "import numpy as np"
   ]
  },
  {
   "cell_type": "code",
   "execution_count": 4,
   "metadata": {},
   "outputs": [
    {
     "name": "stdout",
     "output_type": "stream",
     "text": [
      "Max = 84\n",
      "Min = 73\n",
      "11\n",
      "11\n"
     ]
    }
   ],
   "source": [
    "# funtion for range:\n",
    "def data_range(x):\n",
    "    return max(x) - min(x)\n",
    "\n",
    "\n",
    "x1 = [75, 73, 77, 76, 84, 76, 77, 78]\n",
    "r=data_range(x1)\n",
    "print(\"Max =\", max(x1))\n",
    "print(\"Min =\", min(x1))\n",
    "print(r)\n",
    "print(np.ptp(x1))\n"
   ]
  },
  {
   "cell_type": "code",
   "execution_count": 13,
   "metadata": {},
   "outputs": [
    {
     "name": "stdout",
     "output_type": "stream",
     "text": [
      "40.75\n",
      "56.5\n",
      "82.5\n",
      "56.5\n",
      "41.75\n"
     ]
    }
   ],
   "source": [
    "def interquartile_range(x):\n",
    "    return np.quantile(x, 0.75) - np.quantile(x, 0.25)\n",
    "\n",
    "weights = [\n",
    "    100, 49, 41, 40, 25, 78, 57, 89, 45, 34, 12, 34, 45, 56, 67, 87, 89, 90,\n",
    "    81, 73\n",
    "]\n",
    "print(np.quantile(weights, 0.25))\n",
    "print(np.quantile(weights, 0.50))\n",
    "print(np.quantile(weights, 0.75))\n",
    "print(np.median(weights))\n",
    "print(interquartile_range(weights))"
   ]
  }
 ],
 "metadata": {
  "kernelspec": {
   "display_name": "Python 3.9.6 64-bit",
   "language": "python",
   "name": "python3"
  },
  "language_info": {
   "codemirror_mode": {
    "name": "ipython",
    "version": 3
   },
   "file_extension": ".py",
   "mimetype": "text/x-python",
   "name": "python",
   "nbconvert_exporter": "python",
   "pygments_lexer": "ipython3",
   "version": "3.9.6"
  },
  "orig_nbformat": 4,
  "vscode": {
   "interpreter": {
    "hash": "ee58b5fda06124f50ca0d338cbc9b0e4e8b97e203338f74cc0d11b7f43a7579a"
   }
  }
 },
 "nbformat": 4,
 "nbformat_minor": 2
}
