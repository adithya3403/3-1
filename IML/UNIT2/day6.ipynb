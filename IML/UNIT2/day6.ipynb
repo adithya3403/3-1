{
 "cells": [
  {
   "cell_type": "code",
   "execution_count": 15,
   "metadata": {},
   "outputs": [],
   "source": [
    "import matplotlib.pyplot as plt\n",
    "import numpy as np\n",
    "\n",
    "x=np.array([25, 35, 15, 16, 18, 20, 25, 32, 35, 60, 61])"
   ]
  },
  {
   "cell_type": "code",
   "execution_count": 16,
   "metadata": {},
   "outputs": [
    {
     "data": {
      "text/plain": [
       "25.0"
      ]
     },
     "execution_count": 16,
     "metadata": {},
     "output_type": "execute_result"
    }
   ],
   "source": [
    "# step1: sort in ascending order\n",
    "x.sort()\n",
    "# step2: calculate the median\n",
    "median = np.median(x)\n",
    "median"
   ]
  },
  {
   "cell_type": "code",
   "execution_count": 17,
   "metadata": {},
   "outputs": [
    {
     "data": {
      "text/plain": [
       "(18.0, 35.0)"
      ]
     },
     "execution_count": 17,
     "metadata": {},
     "output_type": "execute_result"
    }
   ],
   "source": [
    "# now Q2 is median=25 and we have to find Q1\n",
    "# Q1 is the median of the lower half of the data\n",
    "# Q3 is the median of the upper half of the data\n",
    "# find Q1, Q2 and Q3\n",
    "Q1=np.median(x[:len(x)//2])\n",
    "Q3=np.median(x[len(x)//2:])\n",
    "Q1, Q3"
   ]
  },
  {
   "cell_type": "code",
   "execution_count": 18,
   "metadata": {},
   "outputs": [
    {
     "data": {
      "image/png": "[encoded data removed]",
      "text/plain": [
       "<Figure size 432x288 with 1 Axes>"
      ]
     },
     "metadata": {
      "needs_background": "light"
     },
     "output_type": "display_data"
    }
   ],
   "source": [
    "# 5 value summary\n",
    "# Q1, Q2, Q3, min, max : 5 value summary\n",
    "\n",
    "# plot a boxplot\n",
    "plt.boxplot(x)\n",
    "plt.show()"
   ]
  }
 ],
 "metadata": {
  "kernelspec": {
   "display_name": "Python 3.9.6 64-bit",
   "language": "python",
   "name": "python3"
  },
  "language_info": {
   "codemirror_mode": {
    "name": "ipython",
    "version": 3
   },
   "file_extension": ".py",
   "mimetype": "text/x-python",
   "name": "python",
   "nbconvert_exporter": "python",
   "pygments_lexer": "ipython3",
   "version": "3.9.6"
  },
  "orig_nbformat": 4,
  "vscode": {
   "interpreter": {
    "hash": "ee58b5fda06124f50ca0d338cbc9b0e4e8b97e203338f74cc0d11b7f43a7579a"
   }
  }
 },
 "nbformat": 4,
 "nbformat_minor": 2
}
