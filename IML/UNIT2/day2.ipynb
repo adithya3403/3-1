{
 "cells": [
  {
   "cell_type": "code",
   "execution_count": 11,
   "metadata": {},
   "outputs": [],
   "source": [
    "import numpy as np"
   ]
  },
  {
   "cell_type": "code",
   "execution_count": 12,
   "metadata": {},
   "outputs": [
    {
     "name": "stdout",
     "output_type": "stream",
     "text": [
      "mean of Ram's house : 77.0\n",
      "True\n"
     ]
    }
   ],
   "source": [
    "# scenario 2\n",
    "\n",
    "# Write a program, answer the following by using measures of central tendency class.\n",
    "# The weghts (in kg) of 8 members of Ram's house tug of war team at school\n",
    "# are [75,73,77,76,84,76,77,78]. Calculate the mean weight of the team.\n",
    "\n",
    "weights = [75, 73, 77, 76, 84, 76, 77, 78]\n",
    "x = np.mean(weights)\n",
    "print(\"mean of Ram's house :\", x)\n",
    "\n",
    "# The 8 members of Shyam house have a mean weight of 64kg.\n",
    "# Which team do you think will win a tug of war? Give reason.\n",
    "\n",
    "print(x > 64)"
   ]
  },
  {
   "cell_type": "code",
   "execution_count": 13,
   "metadata": {},
   "outputs": [
    {
     "name": "stdout",
     "output_type": "stream",
     "text": [
      "178100.0\n",
      "35000.0\n"
     ]
    }
   ],
   "source": [
    "# scenario 3\n",
    "\n",
    "# Create a module called Statistics with central tendency class having methods\n",
    "# such as mean, median, mode and quantile. Consider 5 families with income\n",
    "# 20500, 25000, 35000, 60000 and 750000. Find avg income of data given in the above example using suitable methods\n",
    "# of central Tendency class. Which measure among the mean and median is relevant? why ?\n",
    "\n",
    "fam = [20500, 25000, 35000, 60000, 750000]\n",
    "print(np.mean(fam))\n",
    "print(np.median(fam))"
   ]
  },
  {
   "cell_type": "code",
   "execution_count": 18,
   "metadata": {},
   "outputs": [],
   "source": [
    "# find quantile:\n",
    "def quantile(x, p):\n",
    "    # returns the pth percentile value in x\n",
    "    pi = int(p * len(x))\n",
    "    return sorted(x)[pi]"
   ]
  },
  {
   "cell_type": "code",
   "execution_count": 33,
   "metadata": {},
   "outputs": [
    {
     "name": "stdout",
     "output_type": "stream",
     "text": [
      "[12, 25, 34, 34, 40, 41, 45, 45, 49, 56, 57, 67, 73, 78, 81, 87, 89, 89, 90, 100]\n",
      "34\n",
      "41\n",
      "57\n",
      "56.5\n",
      "87\n"
     ]
    }
   ],
   "source": [
    "weights = [\n",
    "    100, 49, 41, 40, 25, 78, 57, 89, 45, 34, 12, 34, 45, 56, 67, 87, 89, 90,\n",
    "    81, 73\n",
    "]\n",
    "print(sorted(weights))\n",
    "print(quantile(weights, 0.10))  # 10th percentile\n",
    "print(quantile(weights, 0.25))  # 25th percentile\n",
    "print(quantile(weights, 0.50))  # 50th percentile\n",
    "print(np.median(weights))  # median\n",
    "print(quantile(weights, 0.75))  # 75th percentile\n"
   ]
  },
  {
   "cell_type": "code",
   "execution_count": null,
   "metadata": {},
   "outputs": [],
   "source": []
  }
 ],
 "metadata": {
  "kernelspec": {
   "display_name": "Python 3.9.6 64-bit",
   "language": "python",
   "name": "python3"
  },
  "language_info": {
   "codemirror_mode": {
    "name": "ipython",
    "version": 3
   },
   "file_extension": ".py",
   "mimetype": "text/x-python",
   "name": "python",
   "nbconvert_exporter": "python",
   "pygments_lexer": "ipython3",
   "version": "3.9.6"
  },
  "orig_nbformat": 4,
  "vscode": {
   "interpreter": {
    "hash": "ee58b5fda06124f50ca0d338cbc9b0e4e8b97e203338f74cc0d11b7f43a7579a"
   }
  }
 },
 "nbformat": 4,
 "nbformat_minor": 2
}
