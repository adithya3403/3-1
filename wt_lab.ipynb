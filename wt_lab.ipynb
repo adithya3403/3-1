{
 "cells": [
  {
   "cell_type": "raw",
   "metadata": {
    "vscode": {
     "languageId": "javascript"
    }
   },
   "source": [
    "// 1a. which accepts a string as input and swap the case of each character. \n",
    "// Input: The Quick Brown Fox, Output: tHEqUICKbROWNfOX\n",
    "const readline = require('readline')\n",
    "var RL = readline.createInterface(process.stdin, process.stdout)\n",
    "RL.question('Please Enter Text:  ', (name) => {\n",
    "    let y = \"\"\n",
    "    for (let i = 0; i < name.length; i++) {\n",
    "        if (name[i] == ' ') y += ''\n",
    "        else if (name[i] == name[i].toUpperCase()) y += name[i].toLowerCase()\n",
    "        else y += name[i].toUpperCase()\n",
    "    }\n",
    "    console.log(\"Output is : \" + y)\n",
    "    RL.close()\n",
    "})"
   ]
  },
  {
   "cell_type": "raw",
   "metadata": {
    "vscode": {
     "languageId": "javascript"
    }
   },
   "source": [
    "// 1b. write a js program to find the most frequent element of an array\n",
    "var list = [1, 4, 7, 8, 7, 4, 1, 5, 2, 1]\n",
    "var max = 0, item = list[0]\n",
    "for (var l = 0; l < list.length; l++) {\n",
    "    var count = 0\n",
    "    for (var r = l; r < list.length; r++) {\n",
    "        if (list[l] == list[r]) count++\n",
    "    }\n",
    "    if (count > max) {\n",
    "        max = count\n",
    "        item = list[l]\n",
    "    }\n",
    "}\n",
    "console.log(item + \" (\" + max + \" times )\") // 1 ( 3 times )"
   ]
  },
  {
   "cell_type": "raw",
   "metadata": {
    "vscode": {
     "languageId": "javascript"
    }
   },
   "source": [
    "// 1c. write a js program to remove duplicates from an array\n",
    "var list = [1, 2, 2, 4, 5, 4, 7, 8, 7, 3, 6], unq = []\n",
    "for (var l = 0; l < list.length; l++)\n",
    "    if (unq.indexOf(list[l]) == -1) unq.push(list[l])\n",
    "console.log(\"Unique List: \", unq) // Unique List:  [1, 2, 4, 5, 7, 8, 3, 6]"
   ]
  },
  {
   "cell_type": "raw",
   "metadata": {
    "vscode": {
     "languageId": "javascript"
    }
   },
   "source": [
    "// 1d. write a js program to perform binary search\n",
    "var list = [11, 15, 23, 24, 36, 58, 62]\n",
    "var binarySearch = function (list, l, r, x) {\n",
    "    while (l <= r) {\n",
    "        var mid = Math.floor((l + r) / 2)\n",
    "        if (list[mid] == x) return \"Found at index: \" + mid\n",
    "        else if (list[mid] < x) l = mid + 1\n",
    "        else r = mid - 1\n",
    "    }\n",
    "    return \"Not Found\"\n",
    "}\n",
    "console.log(binarySearch(list, 0, list.length - 1, 58)) // Found at index:  5"
   ]
  },
  {
   "cell_type": "raw",
   "metadata": {
    "vscode": {
     "languageId": "javascript"
    }
   },
   "source": [
    "// 1e. Write a JavaScript program to list the properties of a JavaScript object.\n",
    "let list = { name: 'Jack', age: 25, college: 'KMIT', year: 3 }\n",
    "console.log(Object.keys(list)) // [ 'name', 'age', 'college', 'year' ]"
   ]
  },
  {
   "cell_type": "raw",
   "metadata": {
    "vscode": {
     "languageId": "javascript"
    }
   },
   "source": [
    "// 1f. Write a JavaScript function to check whether an object contains given property.\n",
    "let object = { name: 'Jack', age: 25, college: 'KMIT', year: 3 }\n",
    "console.log(object.hasOwnProperty('name')) // true\n",
    "console.log('age' in object) // true\n",
    "console.log(object.college) // KMIT\n",
    "console.log(object.year) // 3"
   ]
  },
  {
   "cell_type": "raw",
   "metadata": {
    "vscode": {
     "languageId": "javascript"
    }
   },
   "source": [
    "// 1g. Write a JavaScript program to sort a list of elements using Quick sort\n",
    "var arr = [5, 2, 4, 1, 3, 7, 6, 8]\n",
    "var quickSort = function (arr) {\n",
    "    if (arr.length <= 1) return arr\n",
    "    var pivot = arr[0], left = [], right = []\n",
    "    for (var i = 1; i < arr.length; i++) {\n",
    "        if (arr[i] < pivot) left.push(arr[i])\n",
    "        else right.push(arr[i])\n",
    "    }\n",
    "    return quickSort(left).concat(pivot, quickSort(right))\n",
    "}\n",
    "console.log(\"Sorted array: \", quickSort(arr));\n",
    "// Sorted array:  [ 1, 2, 3, 4, 5, 6, 7, 8 ]"
   ]
  },
  {
   "cell_type": "raw",
   "metadata": {
    "vscode": {
     "languageId": "javascript"
    }
   },
   "source": [
    "// 1h. Write a JavaScript program to implement Bubble Sort.\n",
    "var arr = [3, 0, 2, 5, -1, 4, 1], n = arr.length\n",
    "for (var i = 0; i < n - 1; i++)\n",
    "    for (var j = 0; j < n - i - 1; j++)\n",
    "        if (arr[j] > arr[j + 1]) {\n",
    "            var temp = arr[j]\n",
    "            arr[j] = arr[j + 1]\n",
    "            arr[j + 1] = temp\n",
    "        }\n",
    "console.log(\"Sorted array: \", arr);\n",
    "// Sorted array:  [ -1, 0, 1, 2, 3, 4, 5 ]"
   ]
  },
  {
   "cell_type": "raw",
   "metadata": {
    "vscode": {
     "languageId": "html"
    }
   },
   "source": [
    "<!-- 1i. to read from a JSON object and display the data in a table (HTML page) -->\n",
    "<html>\n",
    "    <head>\n",
    "        <title>Convert JSON Data to HTML Table</title>\n",
    "        <style>table,td,th {border: solid 2px #DDD;}</style>\n",
    "    </head>\n",
    "    <body>\n",
    "        <input type=\"button\" onclick=\"CreateTableFromJSON()\" value=\"Create Table From JSON\" />\n",
    "        <p id=\"showData\"></p>\n",
    "    </body>\n",
    "    <script>\n",
    "        function CreateTableFromJSON() {\n",
    "            fetch(\"s1.json\").then(response => response.json()).then(data => {\n",
    "                var col = []\n",
    "                for (var i = 0; i < data.student.length; i++)\n",
    "                    for (var key in data.student[i])\n",
    "                        if (col.indexOf(key) === -1) col.push(key)\n",
    "                console.log(col)\n",
    "                var table = document.createElement(\"table\")\n",
    "                var tr = table.insertRow(-1)\n",
    "                for (var i = 0; i < col.length; i++) {\n",
    "                    var th = document.createElement(\"th\")\n",
    "                    th.innerHTML = col[i]\n",
    "                    tr.appendChild(th)\n",
    "                }\n",
    "                for (var i = 0; i < data.student.length; i++) {\n",
    "                    tr = table.insertRow(-1)\n",
    "                    for (var j = 0; j < col.length; j++) {\n",
    "                        var tabCell = tr.insertCell(-1)\n",
    "                        tabCell.innerHTML = data.student[i][col[j]]\n",
    "                    }\n",
    "                }\n",
    "                var divContainer = document.getElementById(\"showData\")\n",
    "                divContainer.innerHTML = \"\"\n",
    "                divContainer.appendChild(table)\n",
    "            })\n",
    "        }\n",
    "    </script>\n",
    "</html>"
   ]
  },
  {
   "cell_type": "raw",
   "metadata": {
    "vscode": {
     "languageId": "html"
    }
   },
   "source": [
    "<!-- 1j. Create a JS application that accepts the student's roll number, name, and marks and, when the form has been\n",
    "submitted, displays the student's name, roll number, and marks in a tabular format along with their GPA ( like a marks\n",
    "sheet) -->\n",
    "<html>\n",
    "    <head>\n",
    "        <style>\n",
    "            table, th, td {\n",
    "                border: 1px solid black;\n",
    "                border-collapse: collapse;\n",
    "            }\n",
    "        </style>\n",
    "        <title>Student-Marks-Sheet</title>\n",
    "    </head>\n",
    "    <body>\n",
    "        <div id=\"mydata\"></div>\n",
    "        <div id=\"myformdiv\">\n",
    "            <h3> Enter Student Details and Marks</h3>\n",
    "            <form id=\"myForm\" method=\"post\">\n",
    "                <label>Student name:</label>\n",
    "                <input type=\"text\" id=\"sname\"><br> <br>\n",
    "                <label>Roll number:&nbsp; </label>\n",
    "                <input type=\"text\" id=\"rollno\"><br><br>\n",
    "                <label>subject1 Marks:</label>\n",
    "                <input type=\"text\" id=\"sub1name\" placeholder=\"sub1\">\n",
    "                <input type=\"number\" id=\"marks1\"><br><br>\n",
    "                <label>subject2 Marks:</label>\n",
    "                <input type=\"text\" id=\"sub2name\" placeholder=\"sub2\">\n",
    "                <input type=\"number\" id=\"marks2\"><br><br>\n",
    "                <label>subject3 Marks:</label>\n",
    "                <input type=\"text\" id=\"sub3name\" placeholder=\"sub3\">\n",
    "                <input type=\"number\" id=\"marks3\"><br><br>\n",
    "                <input type=\"button\" onclick=\"myFunction()\" value=\"Submit\">\n",
    "            </form>\n",
    "        </div>\n",
    "        <script>\n",
    "            function myFunction() {\n",
    "                document.getElementById('myformdiv').style.display = 'none';\n",
    "                let myInfo = `\n",
    "                <div class='sdetails'>\n",
    "                    <h3> Student Details and Marks</h3>\n",
    "                    <table class=table-bordered table-primary>\n",
    "                        <tr><td class=\"bg-primary\"> Name</td>\n",
    "                            <td>${document.getElementById('sname').value}</td></tr>\n",
    "                        <tr><td class=\"bg-primary\"> Hall-ticket Number:  </td>\n",
    "                            <td>${document.getElementById('rollno').value}</td></tr>\n",
    "                        <tr><td>${document.getElementById('sub1name').value} Marks </td>\n",
    "                            <td>${document.getElementById('marks1').value}</td></tr>\n",
    "                        <tr><td>${document.getElementById('sub2name').value} Marks </td>\n",
    "                            <td>${document.getElementById('marks2').value}</td></tr>\n",
    "                        <tr><td>${document.getElementById('sub3name').value} Marks </td>\n",
    "                            <td>${document.getElementById('marks3').value}</td></tr>\n",
    "                        <tr><td> GPA </td>\n",
    "                            <td>${((parseInt(document.getElementById('marks1').value) + \n",
    "                                    parseInt(document.getElementById('marks2').value) + \n",
    "                                    parseInt(document.getElementById('marks3').value)) / 30).toFixed(2)}</td></tr>\n",
    "                    </table>\n",
    "                </div>`;\n",
    "                document.getElementById('mydata').innerHTML = myInfo;\n",
    "            }\n",
    "        </script>\n",
    "    </body>\n",
    "</html>"
   ]
  },
  {
   "cell_type": "raw",
   "metadata": {
    "vscode": {
     "languageId": "html"
    }
   },
   "source": [
    "<!-- 2. Write JS code in an HTML page such that based on location selected by the user an AJAX request is made and weather\n",
    "details for that location are fetched and displayed, zipcode=500047 -->\n",
    "<html>\n",
    "    <head>\n",
    "        <link rel=\"stylesheet\" href=\"https://maxcdn.bootstrapcdn.com/bootstrap/4.4.1/css/bootstrap.min.css\">\n",
    "        <title>Weather App</title>\n",
    "        <script>\n",
    "            function getWeather() {\n",
    "                let request = new XMLHttpRequest()\n",
    "                let zip = document.getElementById('tb1').value\n",
    "                request.open('GET', 'https://api.openweathermap.org/data/2.5/weather?q=' + zip +\n",
    "                    '&appid=93f26e3c57081a6210de53b8dcfdfea4', true)\n",
    "                request.onload = function () {\n",
    "                    if (request.status >= 200 && request.status < 400) {\n",
    "                        let data = JSON.parse(request.responseText)\n",
    "                        console.log(data)\n",
    "                        var icon = \"https://openweathermap.org/img/w/\" + data.weather[0].icon + \".png\"\n",
    "                        document.getElementById('temp').innerHTML = data.main.temp + 'F'\n",
    "                        document.getElementById('country').innerHTML = data.sys.country\n",
    "                        document.getElementById('city').innerHTML = data.name\n",
    "                        let tim = new Date(data.sys.sunrise * 1000)\n",
    "                        document.getElementById('sunrise').innerHTML = tim\n",
    "                        let tim1 = new Date(data.sys.sunset * 1000)\n",
    "                        document.getElementById('sunset').innerHTML = tim1\n",
    "                        document.getElementById('windspeed').innerHTML = data.wind.speed\n",
    "                        document.getElementById('humid').innerHTML = data.main.humidity\n",
    "                    } else console.log('failed connecting')\n",
    "                }\n",
    "                request.onerror = function () { console.log(\" Error \") }\n",
    "                request.send()\n",
    "            }\n",
    "        </script>\n",
    "    </head>\n",
    "    <body>\n",
    "        <br>\n",
    "        <div class=\"container\">\n",
    "            <div class=\"jumbotron text-center\">\n",
    "                <h1>Enter zipcode to get weather report</h1>\n",
    "                <input type=\"text\" placeholder=\"Enter zipcode\" id=\"tb1\"><br><br>\n",
    "                <button type=\"submit\" onclick=\"getWeather()\">Click me</button>\n",
    "            </div>\n",
    "            <table class=\"table-bordered table-striped\">\n",
    "                <thead>\n",
    "                    <tr><th>Key</th>\n",
    "                        <th>Value</th></tr>\n",
    "                </thead>\n",
    "                <tbody>\n",
    "                    <tr><td>Country</td>\n",
    "                        <td><label id=\"country\"></label></td></tr>\n",
    "                    <tr><td>City</td>\n",
    "                        <td><label id=\"city\"></label></td></tr>\n",
    "                    <tr><td>Temperature</td>\n",
    "                        <td><label id=\"temp\"></label></td></tr>\n",
    "                    <tr><td>Humidity</td>\n",
    "                        <td><label id=\"humid\"></label></td></tr>\n",
    "                    <tr><td>Sunrise</td>\n",
    "                        <td><label id=\"sunrise\"></label></td></tr>\n",
    "                    <tr><td>Sunset</td>\n",
    "                        <td><label id=\"sunset\"></label></td></tr>\n",
    "                    <tr><td>WindSpeed</td>\n",
    "                        <td><label id=\"windspeed\"></label></td></tr>\n",
    "                </tbody>\n",
    "            </table>\n",
    "        </div>\n",
    "    </body>\n",
    "</html>"
   ]
  },
  {
   "cell_type": "raw",
   "metadata": {
    "vscode": {
     "languageId": "javascript"
    }
   },
   "source": [
    "// 3. Write a Node JS program that accepts a port from the user and runs a node server at that port\n",
    "var http = require('http')\n",
    "var server = http.createServer(function (req, res) {\n",
    "    if (req.url == '/') {\n",
    "        res.writeHead(200, { 'Content-Type': 'text/html' })\n",
    "        res.write('<html><body><p>This is home Page</p></body></html>')\n",
    "        res.end()\n",
    "    } else if (req.url == \"/student\") {\n",
    "        res.writeHead(200, { 'Content-Type': 'text/html' })\n",
    "        res.write('<html><body><p>This is student Page</p></body></html>')\n",
    "        res.end()\n",
    "    } else if (req.url == \"/admin\") {\n",
    "        res.writeHead(200, { 'Content-Type': 'text/html' })\n",
    "        res.write('<html><body><p>This is admin Page</p></body></html>')\n",
    "        res.end()\n",
    "    } else res.end('Invalid Request!')\n",
    "})\n",
    "server.listen(8000)\n",
    "console.log('Server is running at port 8000');"
   ]
  },
  {
   "cell_type": "raw",
   "metadata": {
    "vscode": {
     "languageId": "javascript"
    }
   },
   "source": [
    "// 4. Write a NodeJS program to read from a file and display the content on screen \"file.txt\"\n",
    "// Content in file.txt: Hello World\n",
    "try {\n",
    "    var data = require('fs').readFileSync('file.txt', 'utf8')\n",
    "    console.log(data)\n",
    "} catch (e) { console.log('Error:', e.stack) }"
   ]
  },
  {
   "cell_type": "raw",
   "metadata": {
    "vscode": {
     "languageId": "javascript"
    }
   },
   "source": [
    "// 5. Create a NodeJS programme that allows users to submit text and a file name, \n",
    "// and if the file already exists, appends the text to the file. \n",
    "// If not, make a fresh file and include the text in it.\n",
    "require('fs').appendFile('file.txt', `Learn Node FS module \\r\\n`, function (err) {\n",
    "    if (err) throw err\n",
    "    console.log('File is Appended successfully')\n",
    "});"
   ]
  }
 ],
 "metadata": {
  "kernelspec": {
   "display_name": "Python 3",
   "language": "python",
   "name": "python3"
  },
  "language_info": {
   "name": "python",
   "version": "3.9.6 (tags/v3.9.6:db3ff76, Jun 28 2021, 15:26:21) [MSC v.1929 64 bit (AMD64)]"
  },
  "orig_nbformat": 4,
  "vscode": {
   "interpreter": {
    "hash": "ee58b5fda06124f50ca0d338cbc9b0e4e8b97e203338f74cc0d11b7f43a7579a"
   }
  }
 },
 "nbformat": 4,
 "nbformat_minor": 2
}
